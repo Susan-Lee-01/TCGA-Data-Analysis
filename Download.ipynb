{
 "cells": [
  {
   "cell_type": "code",
   "execution_count": 470,
   "id": "aa1351af-bac0-4927-9aac-d04c5fa74046",
   "metadata": {},
   "outputs": [],
   "source": [
    "from Download import Download_data"
   ]
  },
  {
   "cell_type": "code",
   "execution_count": 472,
   "id": "71ae405b-38b1-4cca-9896-e54db2f633ff",
   "metadata": {},
   "outputs": [],
   "source": [
    "download_data(cancer_list=['LUAD','LUSC','BRCA'], data_source='./cancer_link.csv', data_dir ='Data')"
   ]
  }
 ],
 "metadata": {
  "kernelspec": {
   "display_name": "Python 3 (ipykernel)",
   "language": "python",
   "name": "python3"
  },
  "language_info": {
   "codemirror_mode": {
    "name": "ipython",
    "version": 3
   },
   "file_extension": ".py",
   "mimetype": "text/x-python",
   "name": "python",
   "nbconvert_exporter": "python",
   "pygments_lexer": "ipython3",
   "version": "3.8.13"
  }
 },
 "nbformat": 4,
 "nbformat_minor": 5
}
