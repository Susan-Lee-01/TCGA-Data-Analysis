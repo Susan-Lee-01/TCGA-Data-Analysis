{
 "cells": [
  {
   "cell_type": "code",
   "execution_count": 47,
   "id": "f6aeefb8-2ae9-4be1-b9d4-a04544f6d920",
   "metadata": {},
   "outputs": [],
   "source": [
    "from Modeling import model_rank\n",
    "from DataLoader import Load_Labeling"
   ]
  },
  {
   "cell_type": "code",
   "execution_count": 48,
   "id": "e3883855-24f9-4dfe-8e49-c822c9e67b17",
   "metadata": {},
   "outputs": [
    {
     "name": "stdout",
     "output_type": "stream",
     "text": [
      "cancer : LUAD\n",
      "file : LUAD.txt\n",
      "cancer : LUSC\n",
      "file : LUSC.txt\n"
     ]
    }
   ],
   "source": [
    "file_name = 'data'\n",
    "cancer_name = ['LUAD', 'LUSC']\n",
    "\n",
    "data = Load_Labeling(file_name, cancer_name)"
   ]
  },
  {
   "cell_type": "code",
   "execution_count": 49,
   "id": "265bd497-3462-4e43-b57c-3c517b3a0134",
   "metadata": {},
   "outputs": [
    {
     "data": {
      "text/plain": [
       "(                  ranking_RF  ranking_XGB\n",
       " ?|100130426              369          369\n",
       " ?|100133144              369          369\n",
       " ?|100134869              369          369\n",
       " ?|10357                  195          195\n",
       " ?|10431                  369          369\n",
       " ...                      ...          ...\n",
       " ZYX|7791                 369          369\n",
       " ZZEF1|23140              369          369\n",
       " ZZZ3|26009               369          369\n",
       " psiTPTE22|387590         369          369\n",
       " tAKR|389932              369          369\n",
       " \n",
       " [20531 rows x 2 columns],\n",
       " '----------------------------------------------------------------------------------------------------',\n",
       "                   importances_RF  importances_XGB\n",
       " ?|100130426             0.000000         0.000000\n",
       " ?|100133144             0.000000         0.000000\n",
       " ?|100134869             0.000000         0.000000\n",
       " ?|10357                 0.000521         0.000521\n",
       " ?|10431                 0.000000         0.000000\n",
       " ...                          ...              ...\n",
       " ZYX|7791                0.000000         0.000000\n",
       " ZZEF1|23140             0.000000         0.000000\n",
       " ZZZ3|26009              0.000000         0.000000\n",
       " psiTPTE22|387590        0.000000         0.000000\n",
       " tAKR|389932             0.000000         0.000000\n",
       " \n",
       " [20531 rows x 2 columns])"
      ]
     },
     "execution_count": 49,
     "metadata": {},
     "output_type": "execute_result"
    }
   ],
   "source": [
    "model_rank(data, [\"RF\", \"XGB\"], parameters={'RF':{'min_samples_leaf': 8}, 'XGB' : {'colsample_bytree': 0.5, 'learning_rate': 0.1, 'max_depth': 3, 'min_child_weight': 1, 'n_estimators': 200, 'subsample': 0.75}})"
   ]
  }
 ],
 "metadata": {
  "kernelspec": {
   "display_name": "Python 3 (ipykernel)",
   "language": "python",
   "name": "python3"
  },
  "language_info": {
   "codemirror_mode": {
    "name": "ipython",
    "version": 3
   },
   "file_extension": ".py",
   "mimetype": "text/x-python",
   "name": "python",
   "nbconvert_exporter": "python",
   "pygments_lexer": "ipython3",
   "version": "3.8.13"
  }
 },
 "nbformat": 4,
 "nbformat_minor": 5
}
