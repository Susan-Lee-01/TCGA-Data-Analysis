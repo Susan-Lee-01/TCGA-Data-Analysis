{
  "nbformat": 4,
  "nbformat_minor": 0,
  "metadata": {
    "colab": {
      "name": "Model_parameter.ipynb",
      "provenance": [],
      "collapsed_sections": []
    },
    "kernelspec": {
      "name": "python3",
      "display_name": "Python 3"
    },
    "language_info": {
      "name": "python"
    }
  },
  "cells": [
    {
      "cell_type": "code",
      "execution_count": 1,
      "metadata": {
        "colab": {
          "base_uri": "https://localhost:8080/"
        },
        "id": "uJOi0pIm0nqA",
        "outputId": "4532960d-a51e-41aa-da46-12fb2bc7030f"
      },
      "outputs": [
        {
          "output_type": "stream",
          "name": "stdout",
          "text": [
            "Mounted at /content/drive\n"
          ]
        }
      ],
      "source": [
        "from model_parameter import model_parameter"
      ]
    },
    {
      "cell_type": "code",
      "source": [
        "model_parameter(['RF','XGB'], {'RF':{'min_samples_leaf': 8}, 'XGB' : {'colsample_bytree': 0.5, 'n_estimators': 200, 'subsample': 0.75}})"
      ],
      "metadata": {
        "colab": {
          "base_uri": "https://localhost:8080/"
        },
        "id": "3ChhySIt7DOo",
        "outputId": "ac7d0b5f-a4fc-4055-e73c-f501df966ec0"
      },
      "execution_count": 6,
      "outputs": [
        {
          "output_type": "execute_result",
          "data": {
            "text/plain": [
              "{'RF': RandomForestClassifier(min_samples_leaf=8),\n",
              " 'XGB': XGBClassifier(colsample_bytree=0.5, n_estimators=200, subsample=0.75)}"
            ]
          },
          "metadata": {},
          "execution_count": 6
        }
      ]
    }
  ]
}